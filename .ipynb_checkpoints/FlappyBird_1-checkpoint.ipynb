{
 "cells": [
  {
   "cell_type": "markdown",
   "metadata": {},
   "source": [
    "## Flappy Bird Using Neural Networks"
   ]
  },
  {
   "cell_type": "code",
   "execution_count": 1,
   "metadata": {},
   "outputs": [
    {
     "name": "stdout",
     "output_type": "stream",
     "text": [
      "pygame 1.9.6\n",
      "Hello from the pygame community. https://www.pygame.org/contribute.html\n"
     ]
    }
   ],
   "source": [
    "import pygame\n",
    "import neat\n",
    "import time\n",
    "import os\n",
    "import random"
   ]
  },
  {
   "cell_type": "code",
   "execution_count": 2,
   "metadata": {},
   "outputs": [],
   "source": [
    "WIN_WIDTH = 400\n",
    "WIN_HEIGHT = 600\n",
    "pygame.display.set_caption(\"Flappy Bird\")"
   ]
  },
  {
   "cell_type": "markdown",
   "metadata": {},
   "source": [
    "### Getting Images"
   ]
  },
  {
   "cell_type": "code",
   "execution_count": 3,
   "metadata": {},
   "outputs": [],
   "source": [
    "BIRD_IMGS = [pygame.transform.scale2x(pygame.image.load(os.path.join(\"imgs\", \"bird1.png\"))), pygame.transform.scale2x(pygame.image.load(os.path.join(\"imgs\", \"bird1.png\"))), pygame.transform.scale2x(pygame.image.load(os.path.join(\"imgs\", \"bird2.png\"))), pygame.transform.scale2x(pygame.image.load(os.path.join(\"imgs\", \"bird3.png\")))]\n",
    "PIPE_IMGS = pygame.transform.scale2x(pygame.image.load(os.path.join(\"imgs\", \"pipe.png\")))\n",
    "BASE_IMGS = pygame.transform.scale2x(pygame.image.load(os.path.join(\"imgs\", \"base.png\")))\n",
    "BG_IMGS = pygame.transform.scale2x(pygame.image.load(os.path.join(\"imgs\", \"bg.png\")))"
   ]
  },
  {
   "cell_type": "markdown",
   "metadata": {},
   "source": [
    "###  Creating Bird Class"
   ]
  },
  {
   "cell_type": "code",
   "execution_count": 4,
   "metadata": {},
   "outputs": [],
   "source": [
    "class Bird:\n",
    "    IMGS = BIRD_IMGS\n",
    "    MAX_ROTATION = 25 #'''Tilting upward and downward the birds face'''\n",
    "    ROT_VEL = 20       #''' Velocity of rotation'''\n",
    "    ANIMATION_TIME = 5 \n",
    "    \n",
    "    def __init__(self, x, y):\n",
    "        self.x = x\n",
    "        self.y = y\n",
    "        self.tilt = 0 #''' initially the bird will be in straight no tilting'''\n",
    "        self.tick_count = 0\n",
    "        self.vel = 0 #''' initially the bird is not moving'''\n",
    "        self.height = self.y\n",
    "        self.img_count = 0\n",
    "        self.img = self.IMGS[0] #''' IMGS REFER BIRD IMAGES'''\n",
    "        \n",
    "    \n",
    "    def jump(self):\n",
    "        self.vel = -10.5 \n",
    "        ''' When then birds goes up the velocity will be -ve and moving down will be +ve \n",
    "        moving right will be +ve and moving left will be -ve'''\n",
    "        self.tick_count = 0 \n",
    "        ''' this is gona keep track of when we last  jump'''\n",
    "        self.height = self.y\n",
    "        \n",
    "        \n",
    "    def move(self):\n",
    "        self.tick_count += 1 \n",
    "        ''' this will keep the track how many times we moved since the last jump\n",
    "        \n",
    "         We'll doing something with displacement means how many pixels we're moving up and down this frame'''\n",
    "        d = self.vel*self.tick_count + 1.5*self.tick_count**2\n",
    "        ''' Formula: -10.5*1 = -10.5, 1.5*1 power 2 = 1.5=====> -10.5 + 1.5 = -9 so the bird will move -9pixels upward'''\n",
    "        \n",
    "        if d >= 16: \n",
    "            ''' if the bird is moving down let it set to be 16pixels so that\n",
    "            we'll move down to fast we reach point where we don't accelerate anymore'''\n",
    "            d = 16\n",
    "            \n",
    "        if d < 0:#''' if the bird is moving up let the bird moing up a bit more'''\n",
    "            d -= 2\n",
    "            \n",
    "        self.y = self.y + d #''' we added the calculated d to y to move slowly up or slowly down'''\n",
    "        \n",
    "        ''' Now we'll work with tilting up and tilting down and we'll do this inside move becaue we'll figure out\n",
    "        whether we're tilting up or down base onthe bird moves up or down'''\n",
    "        \n",
    "        if d < 0 or self.y < self.height + 50:\n",
    "            '''if we are going upward even if we are coming downward till that mid point oujr birds face \n",
    "            should be slight up\n",
    "           \n",
    "           if we're going downward bird face shoul be completely 90 degrees downwards likes nose diving to the ground\n",
    "        with faster and faster velocity we're not using max rotation here becaue we want completely down when moving down\n",
    "        and we used max rotation above because we don't want to completely rotate up but slight upward of bird face'''\n",
    "            if self.tilt < self.MAX_ROTATION:\n",
    "                self.tilt = self.MAX_ROTATION\n",
    "        else:\n",
    "            if self.tilt > -90:\n",
    "                self.tilt -= self.ROT_VEL \n",
    "                \n",
    "                \n",
    "    def draw(self, win): #'''win means window where our image will be shown'''\n",
    "        self.img_count += 1\n",
    "        \n",
    "        #''' If the image count is less then animation time we'll set the first image'''\n",
    "        if self.img_count < self.ANIMATION_TIME:\n",
    "            self.img = self.IMGS[0]\n",
    "        elif self.img_count < self.ANIMATION_TIME*2:\n",
    "            self.img = self.IMGS[1] #'''WE'LL show the second image'''\n",
    "        elif self.img_count < self.ANIMATION_TIME*3:\n",
    "            self.img = self.IMGS[2]\n",
    "        elif self.img_count < self.ANIMATION_TIME*4:\n",
    "            self.img = self.IMGS[1]\n",
    "        elif self.img_count == self.ANIMATION_TIME*4 + 1:\n",
    "            self.img = self.IMGS[0]\n",
    "            self.img_count = 0\n",
    "            ''' this way we set the wings flapping up and down\n",
    "            \n",
    "             last thing is when the bird going down the images should not change instead it should just dive with \n",
    "            leveling it's wings'''\n",
    "        if self.tilt <= -80:\n",
    "            self.img = self.IMGS[1]\n",
    "           # '''and during going downward when bird again moving upward it should again change images'''\n",
    "            self.img_count = self.ANIMATION_TIME * 2\n",
    "            \n",
    "            #''' Now to rotate the image in center of pygame window'''\n",
    "            rotated_image = pygame.transform.rotate(self.img, self.tilt)\n",
    "            #''' we'll define the top left of our image self.x and self.y'''\n",
    "            new_rect = rotated_image.get_rect(center=self.img.get_rect(topleft = (self.x, self.y)).center)\n",
    "            win.blit(rotated_image, new_rect.topleft)\n",
    "            \n",
    "    def get_mask(self):\n",
    "        return pygame.mask.from_surface(self.img)\n",
    "    \n",
    "def draw_win(win, bird):\n",
    "    win.blit(BG_IMGS, (0, 0)) # blit means draw we're drawing BG IMAGE AND 0, 0 OR TOP LEFT CORNER\n",
    "    bird.draw(win)\n",
    "    pygame.display.update()\n",
    "\n",
    "def main():\n",
    "    bird = Bird(200, 200)\n",
    "    win = pygame.display.set_mode((WIN_WIDTH, WIN_HEIGHT))\n",
    "    run = True\n",
    "    while run:\n",
    "        for event in pygame.event.get():\n",
    "            if event.type == pygame.QUIT:\n",
    "                run = False\n",
    "        \n",
    "        draw_win(win, bird)\n",
    "\n",
    "    pygame.quit()\n",
    "    quit()\n",
    "\n",
    "main()"
   ]
  }
 ],
 "metadata": {
  "kernelspec": {
   "display_name": "Python 3",
   "language": "python",
   "name": "python3"
  },
  "language_info": {
   "codemirror_mode": {
    "name": "ipython",
    "version": 3
   },
   "file_extension": ".py",
   "mimetype": "text/x-python",
   "name": "python",
   "nbconvert_exporter": "python",
   "pygments_lexer": "ipython3",
   "version": "3.7.4"
  }
 },
 "nbformat": 4,
 "nbformat_minor": 4
}
